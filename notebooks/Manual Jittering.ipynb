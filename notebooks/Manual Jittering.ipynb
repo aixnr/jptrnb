{
 "cells": [
  {
   "cell_type": "markdown",
   "id": "reported-solution",
   "metadata": {},
   "source": [
    "Jittering data (a way to reduce overlapping between data points with scatter plot) can be done by using Seaborn through `sns.stripplot()` (for categorical plotting) and `sns.swarmplot()` (jittering along the x-axis). However, I would like to try manual jittering with just `matplotlib`.\n",
    "\n",
    "The trick, taken from [this thread on StackOverflow](https://stackoverflow.com/questions/53093560/python-scatter-plot-overlapping-data), is quite clever I must say.\n",
    "\n",
    "I have also looked at these threads on StackOverflow: [Matplotlib: avoiding overlapping datapoints in a “scatter/dot/beeswarm” plot](https://stackoverflow.com/questions/8671808/matplotlib-avoiding-overlapping-datapoints-in-a-scatter-dot-beeswarm-plot), which has two additional methods that I tried but did not quite work, particularly the one using the kernel density estimate (KDE). It looks cool tho."
   ]
  },
  {
   "cell_type": "code",
   "execution_count": 1,
   "id": "nearby-tragedy",
   "metadata": {},
   "outputs": [],
   "source": [
    "import matplotlib.pyplot as plt\n",
    "import pandas as pd\n",
    "import seaborn as sns\n",
    "import numpy as np"
   ]
  },
  {
   "cell_type": "code",
   "execution_count": 2,
   "id": "executive-elements",
   "metadata": {},
   "outputs": [],
   "source": [
    "dataset = {\n",
    "    \"Subject\": [\"M\", \"N\", \"O\", \"P\", \"Q\", \"R\", \"S\", \"T\"],\n",
    "    \"Protein\": [\"A\", \"A\", \"A\", \"A\", \"B\", \"B\", \"B\", \"B\"],\n",
    "    \"Levels\": [12.1, 12.2, 12, 12, 12, 12.1, 12.1, 11.9]\n",
    "}\n",
    "\n",
    "df = pd.DataFrame(dataset)"
   ]
  },
  {
   "cell_type": "code",
   "execution_count": 3,
   "id": "distant-stuart",
   "metadata": {},
   "outputs": [
    {
     "data": {
      "image/png": "[encoded data removed]",
      "text/plain": [
       "<Figure size 576x288 with 3 Axes>"
      ]
     },
     "metadata": {
      "needs_background": "light"
     },
     "output_type": "display_data"
    }
   ],
   "source": [
    "fig, ax = plt.subplots(figsize=(8, 4), ncols=3)\n",
    "fig.subplots_adjust(wspace=0.3)\n",
    "for name, group in df.groupby(\"Subject\"):\n",
    "    ax[0].plot(group[\"Protein\"], group[\"Levels\"], marker=\"o\", linestyle=\"\")\n",
    "    ax[0].set_title(\"Pure Matplotlib\")\n",
    "    \n",
    "sns.swarmplot(data=df, x=\"Protein\", y=\"Levels\", hue=\"Subject\", ax=ax[1])\n",
    "ax[1].get_legend().remove()\n",
    "ax[1].set_title(\"Seaborn's Swarmplot\")\n",
    "\n",
    "sns.stripplot(data=df, x=\"Protein\", y=\"Levels\", hue=\"Subject\", ax=ax[2])\n",
    "ax[2].get_legend().remove()\n",
    "ax[2].set_title(\"Seaborn's stripplot\")\n",
    "\n",
    "for i in [0, 1, 2]:\n",
    "    ax[i].set_ylim(9, 16)"
   ]
  },
  {
   "cell_type": "markdown",
   "id": "purple-trader",
   "metadata": {},
   "source": [
    "As you can see above, `sns.swarmplot()` jitters data only by the x-axis while `sns.stripplot()` jitters data by both x-axis and y-axis.\n",
    "\n",
    "With Matplotlib, it is quite challenging to jitter along the x-axis, unless we change it from categorical (with string, like \"A\" and \"B\" here) with integer or float. We can do so using the `df.replace()` function."
   ]
  },
  {
   "cell_type": "code",
   "execution_count": 4,
   "id": "assumed-length",
   "metadata": {},
   "outputs": [],
   "source": [
    "df[\"Protein\"] = df[\"Protein\"].replace(to_replace={\"A\": 1, \"B\": 3})"
   ]
  },
  {
   "cell_type": "markdown",
   "id": "wrapped-plant",
   "metadata": {},
   "source": [
    "Function to jitter an array of data, get the value for the `array` parameter from a `pd.Series` with `df[\"Column\"].to_numpy()`.\n",
    "\n",
    "The parameter `f1` and `f2` are arbitrary parameters that influence the jittering."
   ]
  },
  {
   "cell_type": "code",
   "execution_count": 5,
   "id": "fuzzy-young",
   "metadata": {},
   "outputs": [],
   "source": [
    "def jitter(array, f1=0.1, f2=0.05):\n",
    "    return array + f1 * np.random.rand(len(array)) - f2"
   ]
  },
  {
   "cell_type": "code",
   "execution_count": 6,
   "id": "enormous-lover",
   "metadata": {},
   "outputs": [
    {
     "data": {
      "image/png": "[encoded data removed]",
      "text/plain": [
       "<Figure size 216x288 with 1 Axes>"
      ]
     },
     "metadata": {
      "needs_background": "light"
     },
     "output_type": "display_data"
    }
   ],
   "source": [
    "# Set up the drawing canvas\n",
    "fig, ax = plt.subplots(figsize=(3, 4))\n",
    "\n",
    "# Perform jittering, store as new column: \"Protein_jittered\"\n",
    "df[\"Protein_jittered\"] = jitter(df[\"Protein\"].to_numpy(), f1=0.75, f2=0.5)\n",
    "\n",
    "# Start drawing\n",
    "for name, group in df.groupby(\"Subject\"):\n",
    "    ax.plot(group[\"Protein_jittered\"], group[\"Levels\"], marker=\"o\", linestyle=\"\")\n",
    "\n",
    "# Customization to re-do the axis labeling\n",
    "ax.set_ylim(9, 16)\n",
    "ax.set_xticks([1, 3])\n",
    "ax.set_xticklabels([\"A\", \"B\"])\n",
    "\n",
    "# Show plot\n",
    "plt.show()"
   ]
  }
 ],
 "metadata": {
  "kernelspec": {
   "display_name": "Python 3",
   "language": "python",
   "name": "python3"
  },
  "language_info": {
   "codemirror_mode": {
    "name": "ipython",
    "version": 3
   },
   "file_extension": ".py",
   "mimetype": "text/x-python",
   "name": "python",
   "nbconvert_exporter": "python",
   "pygments_lexer": "ipython3",
   "version": "3.7.9"
  }
 },
 "nbformat": 4,
 "nbformat_minor": 5
}
