{
 "cells": [
  {
   "cell_type": "code",
   "execution_count": 1,
   "metadata": {},
   "outputs": [],
   "source": [
    "# Import modules\n",
    "import os\n",
    "import pandas as pd\n",
    "import numpy as np\n",
    "import matplotlib.pyplot as plt"
   ]
  },
  {
   "cell_type": "code",
   "execution_count": 2,
   "metadata": {},
   "outputs": [],
   "source": [
    "def subtitle_to_df(subtitle_file):\n",
    "    # Read the file\n",
    "    with open(subtitle_file) as file:\n",
    "        subtitle_raw = file.read()\n",
    "        subtitle_block = subtitle_raw.split('\\n\\n')\n",
    "    \n",
    "    # Extract with list comprehension, generating nested list\n",
    "    line_each = [ x.split('\\n', 2) for x in subtitle_block ]\n",
    "    \n",
    "    # Turn nested list into Pandas DataFrame\n",
    "    df = pd.DataFrame(line_each, columns = ['Counter', 'Time', 'Text'])\n",
    "    \n",
    "    # Drop None\n",
    "    df = df.dropna()\n",
    "    \n",
    "    # Trime time to only take the time to appear excluding milliseconds\n",
    "    df['Time'] = df['Time'].apply(lambda x: x.split(',')[0])\n",
    "    \n",
    "    # Remove \\n in text column\n",
    "    df['Text'] = df['Text'].apply(lambda x: x.replace('\\n', ''))\n",
    "    \n",
    "    # Lowercase them all to make query easier\n",
    "    df['Text'] = df['Text'].apply(lambda x: x.lower())\n",
    "    \n",
    "    # Return the DataFrame\n",
    "    return df"
   ]
  },
  {
   "cell_type": "code",
   "execution_count": 3,
   "metadata": {},
   "outputs": [],
   "source": [
    "def combinator(folder):\n",
    "    # Create DataFrame placeholder prior appending\n",
    "    df_all = pd.DataFrame()\n",
    "    \n",
    "    # Create counter for episode column, start at 1\n",
    "    n = 1\n",
    "    \n",
    "    # Read every files in 'folder'\n",
    "    for root, dirs, files in os.walk(folder):\n",
    "        \n",
    "        # By default, things aren't sorted, so we need to sort\n",
    "        for file in sorted(files):\n",
    "            \n",
    "            # Join root with file string\n",
    "            file_path = os.path.join(root, file)\n",
    "            \n",
    "            # Run the function to turn raw data into df\n",
    "            df_each = subtitle_to_df(file_path)\n",
    "            \n",
    "            # Place the episode number in new Episode column\n",
    "            df_each['Episode'] = n\n",
    "            \n",
    "            # Increase the counter by 1\n",
    "            n += 1\n",
    "            \n",
    "            # Append into final DataFrame\n",
    "            df_all = df_all.append(df_each, ignore_index = False)\n",
    "    \n",
    "    # Return data with re-arranged column\n",
    "    return df_all[['Episode', 'Counter', 'Time', 'Text']]"
   ]
  },
  {
   "cell_type": "code",
   "execution_count": 4,
   "metadata": {},
   "outputs": [],
   "source": [
    "# Read raw input files, save as csv\n",
    "combinator('store/srt/').to_csv('data/Dr. STONE.csv', index = False)\n",
    "\n",
    "# Read from CSV\n",
    "df = pd.read_csv('data/Dr. STONE.csv')\n",
    "\n",
    "# Label the data\n",
    "df['Science'] = df['Text'].apply(lambda x: 'Pull' if 'science' in x else 'Drop')"
   ]
  },
  {
   "cell_type": "code",
   "execution_count": 5,
   "metadata": {},
   "outputs": [
    {
     "data": {
      "image/png": "[encoded data removed]",
      "text/plain": [
       "<Figure size 576x360 with 1 Axes>"
      ]
     },
     "metadata": {
      "needs_background": "light"
     },
     "output_type": "display_data"
    }
   ],
   "source": [
    "# Make plot bigger\n",
    "plt.figure(figsize = (8,5))\n",
    "\n",
    "# Method chaining to query, groupby, calculate size per group, and to plot\n",
    "(df\n",
    " .query(' Science == \"Pull\" ')\n",
    " .groupby('Episode')\n",
    " .size()\n",
    " .plot(kind = 'bar', color = 'gray')\n",
    ")\n",
    "\n",
    "# Aesthetics\n",
    "plt.ylabel('Occurrence')\n",
    "plt.xlabel('Episode Number')\n",
    "plt.title('How Many Times \"Science\" is mentioned in Dr. STONE?')\n",
    "plt.xticks(rotation = 'horizontal')\n",
    "\n",
    "# Save the plot, uncomment to actually save it\n",
    "plt.savefig('charts/Dr. STONE - first plot.png', \n",
    "            format = 'png', \n",
    "            dpi = 300, \n",
    "            bbox_inches = 'tight')\n",
    "\n",
    "# Render the plot\n",
    "plt.show()"
   ]
  },
  {
   "cell_type": "code",
   "execution_count": 6,
   "metadata": {},
   "outputs": [],
   "source": [
    "# Relationship between 'senku' and science?\n",
    "\n",
    "# Label the data\n",
    "df['Senku'] = df['Text'].apply(lambda x: 'Pull' if 'senku' in x else 'Drop')\n",
    "\n",
    "# Combine pull labels in Science in Senku column, pull them all with OR operator\n",
    "ss = df.query(' Science == \"Pull\" or Senku == \"Pull\" ')\n",
    "\n",
    "# Replace \"Drop\" with NaN so .groupby().count() would exclude that\n",
    "ss_dropMarked = ss.replace('Drop', np.NaN)\n",
    "\n",
    "# Perform grouping and count occurrence\n",
    "ss_grouped = ss_dropMarked.groupby('Episode').count().reset_index()"
   ]
  },
  {
   "cell_type": "code",
   "execution_count": 7,
   "metadata": {},
   "outputs": [
    {
     "data": {
      "image/png": "[encoded data removed]",
      "text/plain": [
       "<Figure size 432x288 with 1 Axes>"
      ]
     },
     "metadata": {
      "needs_background": "light"
     },
     "output_type": "display_data"
    }
   ],
   "source": [
    "# DataFrame.Series into x_ and y_ np.array\n",
    "x_ = ss_grouped['Science'].to_numpy()\n",
    "y_ = ss_grouped['Senku'].to_numpy()\n",
    "\n",
    "# Plot with matplotlib\n",
    "plt.plot(x_, y_, marker = 'o', linestyle = '', color = 'gray')\n",
    "\n",
    "# Calculate linear equation with np.polyfit()\n",
    "m, b = np.polyfit(x_, y_, 1)\n",
    "\n",
    "# Add the line from linear equation\n",
    "plt.plot(x_, m*x_ + b, linewidth = .2)\n",
    "\n",
    "# Customization\n",
    "plt.title('Any Relationship between Science and Senku?')\n",
    "plt.xlabel('Occurrence of \"Science\"')\n",
    "plt.ylabel('Occurrence of \"Senku\"')\n",
    "plt.yticks(range(0, 31, 5))\n",
    "plt.xticks(range(0, 26, 5))\n",
    "\n",
    "# Save plot\n",
    "#plt.savefig('charts/Dr. STONE - rel plot.png', \n",
    "            dpi = 300, format = 'png', bbox_inches = 'tight')\n",
    "\n",
    "# Call plot\n",
    "plt.show()"
   ]
  }
 ],
 "metadata": {
  "kernelspec": {
   "display_name": "Python 3.7.4 64-bit ('base': conda)",
   "language": "python",
   "name": "python37464bitbaseconda6fa52d27aa9444f6ad21edaa7ba40c79"
  },
  "language_info": {
   "codemirror_mode": {
    "name": "ipython",
    "version": 3
   },
   "file_extension": ".py",
   "mimetype": "text/x-python",
   "name": "python",
   "nbconvert_exporter": "python",
   "pygments_lexer": "ipython3",
   "version": "3.7.7"
  }
 },
 "nbformat": 4,
 "nbformat_minor": 4
}
