{
 "cells": [
  {
   "cell_type": "markdown",
   "metadata": {},
   "source": [
    "# Creating Pandas DataFrame\n",
    "\n",
    "There are several ways to create a Pandas DataFrame. Usually, I would start by reading CSV or spreadsheet file to get started with data analysis. However, we can create DataFrame from lists and dictionaries too. Knowing how to do would be useful in some situations."
   ]
  },
  {
   "cell_type": "code",
   "execution_count": null,
   "metadata": {},
   "outputs": [],
   "source": [
    "import pandas as pd"
   ]
  },
  {
   "cell_type": "markdown",
   "metadata": {},
   "source": [
    "## DataFrame from List\n",
    "\n",
    "First, let's look at how to create DataFrame from lists."
   ]
  },
  {
   "cell_type": "code",
   "execution_count": null,
   "metadata": {},
   "outputs": [],
   "source": [
    "# ---------------\n",
    "# With zippedlist\n",
    "# ---------------\n",
    "\n",
    "# Prepare the list\n",
    "episode = ['#1', '#2', '#3', '#4', '#5', '#6', '#7', '#8', '#9', '#10', '#11', '#12']\n",
    "source_size = [477, 489, 504, 443, 524, 507, 747, 746, 746, 746, 746, 747]\n",
    "output_size = [95, 114, 111, 99, 120, 103, 103, 105, 87, 92, 106, 101]\n",
    "\n",
    "# Create a zipped list with zip()\n",
    "zippedlist = list(zip(episode, source_size, output_size))\n",
    "\n",
    "# Turn zippedlist into Pandas DataFrame\n",
    "df = pd.DataFrame(zippedlist, columns = ['Episode', 'Source', 'Output'])\n",
    "\n",
    "# Show DataFrame\n",
    "df"
   ]
  },
  {
   "cell_type": "code",
   "execution_count": null,
   "metadata": {},
   "outputs": [],
   "source": [
    "# ---------------------------\n",
    "# With multi-dimensional list\n",
    "# ---------------------------\n",
    "\n",
    "# Prepare the multi-dimensional list\n",
    "my_list = [['Leto', 8], ['Oscar', 4], ['Lilianne', 12], ['Beatrice', 11]]\n",
    "\n",
    "# Create a DataFrame from multi-dimensional list\n",
    "df = pd.DataFrame(my_list, columns = ['Pet', 'Age'])\n",
    "\n",
    "# Show DataFrame\n",
    "df"
   ]
  },
  {
   "cell_type": "markdown",
   "metadata": {},
   "source": [
    "When constructing a `DataFrame`, note the argument `columns` and `index`. This will dictate the shape of the DataFrame. On another note, when constructing `DataFrame` from nested list, each item is assigned to a column."
   ]
  },
  {
   "cell_type": "code",
   "execution_count": null,
   "metadata": {},
   "outputs": [],
   "source": [
    "# ---------------------\n",
    "# Interesting behaviors\n",
    "# ---------------------\n",
    "\n",
    "# Create a nested list of 2 lists, 3 items in each list\n",
    "my_list = [['a', 'b', 'c'], ['A', 'B', 'C']]\n",
    "\n",
    "# Create a DataFrame, specifying 3 columns\n",
    "df = pd.DataFrame(my_list, columns = ['Column_A', 'Column_B', 'Column_C'])\n",
    "\n",
    "# Create a DataFrame from the same list, specifying 2 columns\n",
    "df = pd.DataFrame(my_list, index = ['Column_lowercase', 'Column_uppercase'])"
   ]
  },
  {
   "cell_type": "markdown",
   "metadata": {},
   "source": [
    "## DataFrame from Dictionary\n",
    "\n",
    "`DataFrame` can also be created from Python `dictionary` as well."
   ]
  },
  {
   "cell_type": "code",
   "execution_count": null,
   "metadata": {},
   "outputs": [],
   "source": [
    "# DataFrame from a dictionary of lists, alternative to zipped list\n",
    "\n",
    "# Create the list\n",
    "students = ['Chizuru', 'Mai', 'Rio', 'Erina', 'Alice', 'Asuna']\n",
    "degree = ['Literature', 'Law', 'Physics', 'Gastrology', 'Engineering', 'IT']\n",
    "gpa = ['3.4', '4.0', '3.7', '3.6', '3.5', '3.3']\n",
    "\n",
    "# Turn lists into dictionary\n",
    "dictionary = {'Name': students, 'Degree': degree, 'Pointer': gpa}\n",
    "\n",
    "# Create DataFrame from dictionary\n",
    "df = pd.DataFrame(dictionary)\n",
    "\n",
    "# Show dictionary\n",
    "df"
   ]
  }
 ],
 "metadata": {
  "kernelspec": {
   "display_name": "Python 3",
   "language": "python",
   "name": "python3"
  },
  "language_info": {
   "codemirror_mode": {
    "name": "ipython",
    "version": 3
   },
   "file_extension": ".py",
   "mimetype": "text/x-python",
   "name": "python",
   "nbconvert_exporter": "python",
   "pygments_lexer": "ipython3",
   "version": "3.7.7"
  }
 },
 "nbformat": 4,
 "nbformat_minor": 4
}
