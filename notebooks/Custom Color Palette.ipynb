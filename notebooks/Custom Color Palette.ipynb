{
 "cells": [
  {
   "cell_type": "markdown",
   "metadata": {},
   "source": [
    "## Custom Color Palette\n",
    "\n",
    "When I was preparing figures for my paper, I designed a custom color palette. Previously with one of my big experiments, the color was stored as dictionary. It was fine, until I had trouble passing it around (something had to do with making a variable to become `global`, which I did not quite understand back then.\n",
    "\n",
    "The current solution is to store it within a callable function, then return either a `dictionary` of colors, or draw an example plot."
   ]
  },
  {
   "cell_type": "code",
   "execution_count": null,
   "metadata": {},
   "outputs": [],
   "source": [
    "import pandas as pd\n",
    "import matplotlib.pyplot as plt\n",
    "import seaborn as sns\n",
    "\n",
    "def color_palette_ag(show=False):\n",
    "    \"\"\"\n",
    "    Referenced from Manu https://g-thomson.github.io/Manu/\n",
    "        Tui Prosthemadera novaeseelandiae\n",
    "        Kotare Todiramphus sanctus\n",
    "        Pohutukawa Metrosideros excelsa\n",
    "\n",
    "    Arg:\n",
    "      show: If true, draws an example plot and returns Fig & Axes objects. If false, returns a color dictionary (for inspection)\n",
    "    \"\"\"\n",
    "    # the color dictionary\n",
    "    color_pal_ag = {\n",
    "        \"SARS2 RBD\": \"#BA2F00\",\n",
    "        \"SARS2 N\": \"#7C6C65\",\n",
    "        \"SARS2 S2\": \"#7ACCD7\",\n",
    "        \"OC43 S\": \"#115896\",\n",
    "        \"H1 Cal/09\": \"#21282F\",\n",
    "        \"SARS2 S\": \"#976533\",\n",
    "        \"229E S\": \"#83A552\",\n",
    "        \"TTd\": \"#D3D5D0\"\n",
    "    }\n",
    "\n",
    "    def draw_example_plot():\n",
    "        \"\"\"\n",
    "        Draw example plot, set up fake data\n",
    "        \"\"\"\n",
    "        ag_dict = {\n",
    "            \"ag_name\": [\"SARS2 RBD\", \"SARS2 N\", \"SARS2 S2\", \"OC43 S\", \"H1 Cal/09\", \"SARS2 S\", \"229E S\", \"TTd\"],\n",
    "            \"ag_val\": [10, 8, 15, 13, 4, 11, 4, 4]\n",
    "        }\n",
    "\n",
    "        df = pd.DataFrame.from_dict(ag_dict)  # turn data into Pandas dataframe\n",
    "        fig, ax = plt.subplots()  # instantiate Fig & Axes objects\n",
    "        df.plot(ax=ax, kind=\"bar\", x=\"ag_name\", y=\"ag_val\", color=df[\"ag_name\"].map(color_pal_ag), legend=False)\n",
    "        ax.set_title(\"Color Scheme, from R Manu NZ\")\n",
    "        plt.show()\n",
    "        return fig, ax\n",
    "\n",
    "    # what to return?\n",
    "    if not show:\n",
    "        return color_pal_ag\n",
    "    else:\n",
    "        fig, ax = draw_example_plot()\n",
    "        return fig, ax"
   ]
  },
  {
   "cell_type": "markdown",
   "metadata": {},
   "source": [
    "To test the color palette, the function has a nested function `.draw_example_plot()`, which can be invoked just by passing `show=True` when calling the function. When setting `show=False`, it would return a dictionary instead.\n",
    "\n",
    "Note that when setting `show=True`, this would return 2 objects: `fig` and `ax` for further manipulation whenever needed."
   ]
  },
  {
   "cell_type": "code",
   "execution_count": null,
   "metadata": {},
   "outputs": [],
   "source": [
    "# Draw a plot\n",
    "fig, ax = color_palette_ag(show=True)"
   ]
  },
  {
   "cell_type": "code",
   "execution_count": null,
   "metadata": {},
   "outputs": [],
   "source": [
    "color_palette_ag(show=False)"
   ]
  },
  {
   "cell_type": "markdown",
   "metadata": {},
   "source": [
    "Using color palette, working with Pandas `.plot()` function call with `color` keyword argument, is already shown above.\n",
    "\n",
    "Basically, when calling `df.plot()`, map the `dict` object of variable:color with keyword argument `color=df[\"variable].map(color_dict)`.\n",
    "\n",
    "To use this color palette with `seaborn` and `matplotlib`, first create a dataset."
   ]
  },
  {
   "cell_type": "code",
   "execution_count": null,
   "metadata": {},
   "outputs": [],
   "source": [
    "# Generate an example dataset\n",
    "\n",
    "dataset = {\n",
    "    \"ag_name\": [\"SARS2 RBD\", \"SARS2 N\", \"H1 Cal/09\"],\n",
    "    \"ag_val\": [48, 12, 33]\n",
    "}\n",
    "\n",
    "df = pd.DataFrame.from_dict(dataset)"
   ]
  },
  {
   "cell_type": "markdown",
   "metadata": {},
   "source": [
    "To use a dictionary of color palette (output from `color_palette_ag()`), just pass it to `palette` keyword argument when using `seaborn`."
   ]
  },
  {
   "cell_type": "code",
   "execution_count": null,
   "metadata": {},
   "outputs": [],
   "source": [
    "# Example code here with seaborn\n",
    "fig, ax = plt.subplots()\n",
    "sns.barplot(ax=ax, data=df, x=\"ag_name\", y=\"ag_val\", palette=color_palette_ag())\n",
    "plt.show()"
   ]
  },
  {
   "cell_type": "markdown",
   "metadata": {},
   "source": [
    "Using pure Matplotlib, with `color` keyword argument. The syntax is similar to how I did it with `df.plot()` method above, by passing the color dictionary inside `.map()` method of the column containing the variables."
   ]
  },
  {
   "cell_type": "code",
   "execution_count": null,
   "metadata": {},
   "outputs": [],
   "source": [
    "# Example core here with pure matplotlib\n",
    "fig, ax = plt.subplots() \n",
    "ax.bar(df[\"ag_name\"], df[\"ag_val\"], color=df[\"ag_name\"].map(color_palette_ag()))\n",
    "plt.show()"
   ]
  },
  {
   "cell_type": "markdown",
   "metadata": {},
   "source": [
    "I also did this in some of my codes when using `.groupby()` on a dataframe, followed by a loop to plot.\n",
    "\n",
    "```python\n",
    "for name, group in df.groupby(grouping):\n",
    "    ax.plot(group[\"x\"], group[\"y\"], ..., label=name, color=color_palette_ag()[name])\n",
    "```\n",
    "\n",
    "Pay attention to the `label=` and `color=` keyword arguments here."
   ]
  }
 ],
 "metadata": {
  "kernelspec": {
   "display_name": "Python 3",
   "language": "python",
   "name": "python3"
  },
  "language_info": {
   "codemirror_mode": {
    "name": "ipython",
    "version": 3
   },
   "file_extension": ".py",
   "mimetype": "text/x-python",
   "name": "python",
   "nbconvert_exporter": "python",
   "pygments_lexer": "ipython3",
   "version": "3.7.7"
  }
 },
 "nbformat": 4,
 "nbformat_minor": 4
}
