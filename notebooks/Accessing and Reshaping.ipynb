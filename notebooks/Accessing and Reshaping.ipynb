{
 "cells": [
  {
   "cell_type": "markdown",
   "metadata": {},
   "source": [
    "Some introduction here"
   ]
  },
  {
   "cell_type": "code",
   "execution_count": null,
   "metadata": {},
   "outputs": [],
   "source": [
    "# Import modules\n",
    "import pandas as pd\n",
    "import matplotlib.pyplot as plt\n",
    "import numpy as np"
   ]
  },
  {
   "cell_type": "code",
   "execution_count": null,
   "metadata": {},
   "outputs": [],
   "source": [
    "# Dataset, using dictionary\n",
    "dataset = {\n",
    "    \"Subject\": [\"Pt_1\", \"Pt_2\", \"Pt_3\", \"Pt_4\", \"Pt_5\", \"Pt_6\"],\n",
    "    \"Ag_HA\":np.linspace(31, 78, 6),\n",
    "    \"Ag_NA\":np.linspace(12, 44, 6),\n",
    "    \"Ag_M\":np.linspace(2, 9, 6),\n",
    "    \"Ag_PA\":np.linspace(7, 21, 6)\n",
    "}\n",
    "\n",
    "# DataFrame, with .from_dict() method\n",
    "df = pd.DataFrame.from_dict(dataset)"
   ]
  },
  {
   "cell_type": "markdown",
   "metadata": {},
   "source": [
    "Pandas has 4 accessor methods:\n",
    "\n",
    "1. `.loc[]` for label based, e.g. `df.loc[:, [\"col 1\", \"col 2\"]]` to get all rows from `col 1` and `col 2`.\n",
    "2. `.iloc[]`, like `.loc`, but primarily with integer index.\n",
    "3. `.at`, get single value, label-based.\n",
    "4. `.iat[]`, like `.at`, but with integer index.\n",
    "\n",
    "Example below using `.loc[]` and `.at[]` accessor methods.\n",
    "\n",
    "Not that with `[:,:]` slice notation on a Pandas dataframe, the first (before comma) is to subset row, the second is to subset column. Also support stepping with `::` slice notation."
   ]
  },
  {
   "cell_type": "code",
   "execution_count": null,
   "metadata": {},
   "outputs": [],
   "source": [
    "# using .loc[], specifying row index and column labels\n",
    "df.loc[4:, [\"Ag_HA\", \"Ag_PA\"]]"
   ]
  },
  {
   "cell_type": "code",
   "execution_count": null,
   "metadata": {},
   "outputs": [],
   "source": [
    "# using .at[], specifying the target cell\n",
    "df.at[4, \"Ag_HA\"]"
   ]
  },
  {
   "cell_type": "markdown",
   "metadata": {},
   "source": [
    "Now, can we change value at specific location of interest?\n",
    "\n",
    "First, try using `df[\"column\"][index]` approach, see what we would get"
   ]
  },
  {
   "cell_type": "code",
   "execution_count": null,
   "metadata": {},
   "outputs": [],
   "source": [
    "# Ag_HA is column, 0 is row-index\n",
    "df[\"Ag_HA\"][0] = 30"
   ]
  },
  {
   "cell_type": "markdown",
   "metadata": {},
   "source": [
    "With this approach, Pandas would complain `SettingWithCopyWarning`, where it concerns about \"returning a view versus a copy\". So, what is happening here? Note that the command actually worked here.\n",
    "\n",
    "First of all, the approach using `df[\"column\"][index]` is inappropriate for changing value at specific cell of interest. The `SettingWithCopyWarning` was created to flag a potentially confusing \"chained\" assignments, because under the hood, it calls `__getitem__` and `__setitem__` (therefore, a \"chained\" method). Depending on what `__getitem__` returns (a view or a copy), the subsequent `__setitem__` operation **may not work**, see this thread on [Stack Overflow](https://stackoverflow.com/questions/20625582/how-to-deal-with-settingwithcopywarning-in-pandas).\n",
    "\n",
    "The appropriate way to do this is with `.loc[]` accessor, because it directly calls `__setitem__` without going through `__getitem__` first."
   ]
  },
  {
   "cell_type": "code",
   "execution_count": null,
   "metadata": {},
   "outputs": [],
   "source": [
    "# No more warning!\n",
    "df.loc[0, \"Ag_HA\"] = 30"
   ]
  },
  {
   "cell_type": "markdown",
   "metadata": {},
   "source": [
    "The next thing that I would like to do is I would like to change certain range of values into 1 value, an operation I usually perform when specifying a detection limit based on the experimental assay that I carried out.\n",
    "\n",
    "Let's decide anything below 10 as lower than detection limit, so all values below 10 will be set to 8 instead. To do this, we use `np.where()`, iterate over a list of columns with a `for` loop. This method allows me to change a range of values without using `df.replace(to_replace=old, value=new)` (which does not work for a range of numbers), and without melting the dataframe first (because my raw dataframe tends to be in wide format).\n",
    "\n",
    "The function `np.where(x, y, z)` returns an array of index where the condition set in `x` is met, then replaces them with value in `y`, back into column/array `z`."
   ]
  },
  {
   "cell_type": "code",
   "execution_count": null,
   "metadata": {},
   "outputs": [],
   "source": [
    "# Get column names except for Subject\n",
    "cols_ag = list(df.columns[1:])\n",
    "\n",
    "for ag in cols_ag:\n",
    "    df[ag] = np.where(df[ag] < 10, 8, df[ag])"
   ]
  },
  {
   "cell_type": "markdown",
   "metadata": {},
   "source": [
    "Above is a modified function from my A-039's `core.py` script, reproduced below:\n",
    "\n",
    "In hindsight, I did not have to melt with `pd.melt()` and run `.pivot()` method, but I thought I should include it here because `.pivot()` returns a dataframe with multi-index, which I then resolved with `.rename_axis(None, axis=1).reset_index()`.\n",
    "\n",
    "```python\n",
    "def spot_detect_limit(data, limit=5):\n",
    "    \"\"\"\n",
    "    Because I was stupid, I needed this to be done.\n",
    "    Takes in ELISpot dataset in wide format, turn into long format,\n",
    "      then replace anything below 7 with 5, then return as wide dataframe.\n",
    "\n",
    "    Change the resulting plot to start plotting at y=4 and LOD at 8.\n",
    "    To be used primarily with elispot.pb_proportion()\n",
    "\n",
    "    Args:\n",
    "      data  : ELIspot data in wide format\n",
    "      limit : the designated lowest value (default is 5)\n",
    "    \"\"\"\n",
    "    id_cols = [\"Run\", \"Subject\", \"Visit\", \"Day\", \"Sample\"]\n",
    "    _df = pd.melt(data, id_vars=id_cols, var_name=\"Antigen\", value_name=\"MASC\")\n",
    "    _df = _df.query(\" Subject != 'HD519' \").reset_index(drop=True)\n",
    "    _df[\"MASC\"] = np.where(_df[\"MASC\"] < 7, limit, _df[\"MASC\"])\n",
    "\n",
    "    # blackmagicfuckery to return back as wide dataframe\n",
    "    _df_wide = _df.pivot(index=id_cols, columns=\"Antigen\", values=\"MASC\")\n",
    "    return _df_wide.rename_axis(None, axis=1).reset_index()\n",
    "```"
   ]
  }
 ],
 "metadata": {
  "kernelspec": {
   "display_name": "Python 3",
   "language": "python",
   "name": "python3"
  },
  "language_info": {
   "codemirror_mode": {
    "name": "ipython",
    "version": 3
   },
   "file_extension": ".py",
   "mimetype": "text/x-python",
   "name": "python",
   "nbconvert_exporter": "python",
   "pygments_lexer": "ipython3",
   "version": "3.7.7"
  }
 },
 "nbformat": 4,
 "nbformat_minor": 4
}
