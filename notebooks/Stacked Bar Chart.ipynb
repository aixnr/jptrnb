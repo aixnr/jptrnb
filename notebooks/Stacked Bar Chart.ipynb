{
 "cells": [
  {
   "cell_type": "markdown",
   "metadata": {},
   "source": [
    "There were some situations where I needed to visualize my research data using stacked bar chart, because I needed to know the \"proportion\" of \"something\" as \"part of a whole\". Stacked bar chart allows you to visualize that kind of situation. So, here is a Jupyter Notebook so that I do not have to make another trip to the Stack Overflow looking for answers again."
   ]
  },
  {
   "cell_type": "code",
   "execution_count": null,
   "metadata": {},
   "outputs": [],
   "source": [
    "# Import libraries\n",
    "import pandas as pd\n",
    "import matplotlib.pyplot as plt\n",
    "import numpy as np"
   ]
  },
  {
   "cell_type": "markdown",
   "metadata": {},
   "source": [
    "Pretend that I have a dataset of 5 healthy donor (HD) subjects and their response against 3 virus antigens (Ag), as measured by ELISA (OD 450). I would like to visualize proportion of response against those 3 aforementioned antigens.\n",
    "\n",
    "At creation, the dataframe is in wide format. For data analysis purposes, it is recommended to work in long format, thus the dataframe has to be melted.\n",
    "\n",
    "HOWEVER with stacked bar chart, I find it easier to work with wide dataframe instead of long dataframe."
   ]
  },
  {
   "cell_type": "code",
   "execution_count": null,
   "metadata": {},
   "outputs": [],
   "source": [
    "# Create dataframe with zipped list\n",
    "subject = ['HD01', 'HD02', 'HD03', 'HD04', 'HD05']\n",
    "antigen_S = [12, 84, 64, 34, 55]\n",
    "antigen_N = [67, 77, 57, 81, 61]\n",
    "antigen_E = [12, 21, 17, 25, 15]\n",
    "\n",
    "# Create a zipped list with zip, then turn into dataframe\n",
    "zippedlist = list(zip(subject, antigen_S, antigen_N, antigen_E))\n",
    "df_wide = pd.DataFrame(zippedlist, columns = ['Subject', 'Ag S', 'Ag N', 'Ag E'])\n",
    "\n",
    "# Melt dataframe with pd.melt()\n",
    "df = pd.melt(df_wide, id_vars = 'Subject', value_name = 'ug/ml', var_name = 'Antigen')\n",
    "\n",
    "# Show wide dataframe\n",
    "df_wide"
   ]
  },
  {
   "cell_type": "code",
   "execution_count": null,
   "metadata": {},
   "outputs": [],
   "source": [
    "# Instantiate Figure and Axes, then create bar chart\n",
    "fig, ax = plt.subplots()\n",
    "\n",
    "# Create first bar for Ag S\n",
    "ax.bar(df_wide['Subject'], df_wide['Ag S'], label = 'S')\n",
    "\n",
    "# Stack Ag N on top of S, call bottom flag\n",
    "ax.bar(df_wide['Subject'], df_wide['Ag N'], label = 'N', \\\n",
    "       bottom = df_wide['Ag S'])\n",
    "\n",
    "# Stack Ag E on both Ag S and N, call bottom flag with np.array() to sum them all\n",
    "ax.bar(df_wide['Subject'], df_wide['Ag E'], label = 'E', \n",
    "       bottom = np.array(df_wide['Ag S'])+np.array(df_wide['Ag N']))\n",
    "\n",
    "# Put legend, to make life easier\n",
    "ax.legend(frameon = False)\n",
    "\n",
    "# Show plot\n",
    "plt.show()"
   ]
  },
  {
   "cell_type": "markdown",
   "metadata": {},
   "source": [
    "Now you see, it is much easier to draw stacked bar chart when the data exists in wide dataframe. Also, it is a little bit complicated if the stacking occurs multiple time due to calling the `bottom` flag at each iteration.\n",
    "\n",
    "Now, this chart is useful. However, sometimes I would like to see percentage instead of absolute value because that would provide me some insight about the composition of response against each antigen, regardless of their absolute value. I like using `lambda` operations here."
   ]
  },
  {
   "cell_type": "code",
   "execution_count": null,
   "metadata": {},
   "outputs": [],
   "source": [
    "# Add all the response, this will be the denominator\n",
    "df_wide['Total Response'] = df_wide.apply(lambda x: x['Ag S'] + x['Ag E'] + x['Ag N'], axis = 1)\n",
    "\n",
    "# Get percentage (proportion) for each Ag-specific response.\n",
    "ag_cols = ['Ag S', 'Ag N', 'Ag E']\n",
    "ag_cols_pct = [ x[3:] for x in ag_cols ]\n",
    "for i, j in zip(ag_cols, ag_cols_pct):\n",
    "    df_wide[f'Pct {j}'] = df_wide.apply(lambda x: (x[i] / x['Total Response']) * 100, axis = 1)"
   ]
  },
  {
   "cell_type": "markdown",
   "metadata": {},
   "source": [
    "What happened in the code above is that I first made a list of antigens, then renamed them to remove `Ag ` with list comprehension, so the second list `ag_cols_pct` contains `['S', 'N', 'E']`.\n",
    "\n",
    "In the second block of code, I run a loop with 2 variable placeholders `i` and `j` (made possible with `zip()` to iterate two iterators (i.e. 2 lists) in parallel."
   ]
  },
  {
   "cell_type": "code",
   "execution_count": null,
   "metadata": {},
   "outputs": [],
   "source": [
    "# Instantiate Figure and Axes objects\n",
    "fig, ax = plt.subplots()\n",
    "\n",
    "# Re-plot. Create first bar for Pct S\n",
    "ax.bar(df_wide['Subject'], df_wide['Pct S'], label = 'S')\n",
    "\n",
    "# Stack Pct N on top of S, call bottom flag\n",
    "ax.bar(df_wide['Subject'], df_wide['Pct N'], label = 'N', \\\n",
    "       bottom = df_wide['Pct S'])\n",
    "\n",
    "# Stack Pct E on both Pct S and N, call bottom flag with np.array() to sum them all\n",
    "ax.bar(df_wide['Subject'], df_wide['Pct E'], label = 'E', \n",
    "       bottom = np.array(df_wide['Pct S'])+np.array(df_wide['Pct N']))\n",
    "\n",
    "# Put legend, to make life easier\n",
    "ax.legend(frameon = False, loc = 'upper center', ncol = 3, bbox_to_anchor = (0.5,1.1))\n",
    "\n",
    "# Show plot\n",
    "plt.show()"
   ]
  },
  {
   "cell_type": "markdown",
   "metadata": {},
   "source": [
    "So, someone on Stack Overflow was kind enough [to provide this code for printing number](https://stackoverflow.com/questions/44309507/stacked-bar-plot-using-matplotlib) within bar chart. I am going to reverse-engineer this approach."
   ]
  },
  {
   "cell_type": "code",
   "execution_count": null,
   "metadata": {},
   "outputs": [],
   "source": [
    "\"\"\"\n",
    "The function code below will first get the height, width, x, and y for each bar, \n",
    "then will create a dataframe. Using this information, we can print numbers within each stacked bar.\n",
    "\n",
    "All of the information coming from ax.patches() call. I do not understand what a Patch is, sadly.\n",
    "\"\"\"\n",
    "def stack_info():\n",
    "    barh = []\n",
    "    barw = []\n",
    "    barx = []\n",
    "    bary = []\n",
    "    \n",
    "    # Obtain the information with ax.patches() call.\n",
    "    for i in ax.patches:\n",
    "        barh.append(i.get_height())\n",
    "        barw.append(i.get_width())\n",
    "        barx.append(i.get_x())\n",
    "        bary.append(i.get_y())\n",
    "\n",
    "    # Zip, return as dataframe\n",
    "    zippedlist = list(zip(barh, barw, barx, bary))\n",
    "    df_stack = pd.DataFrame(zippedlist, columns = ['Height', 'Width', 'X', 'Y'])\n",
    "    \n",
    "    # Return data\n",
    "    return df_stack\n",
    "\n",
    "\"\"\"\n",
    "With all those information from stack_info call, we can print number now.\n",
    "\n",
    "Luckily, information about the height of stacked bar is already within df_stack['Height']\n",
    "By adding .query(' Height > 0'), this will include zero or NaN from being written onto the plot\n",
    "\n",
    "Wrap round(df_stack['Height'][i],2) with int() if needed\n",
    "\"\"\"\n",
    "def stack_print_number():\n",
    "    df_stack = stack_info()\n",
    "    for i in df_stack.query(' Height > 0 ').index:\n",
    "        ax.text(s = round(df_stack['Height'][i],2),\n",
    "                x = df_stack['X'][i] + 0.8/4,\n",
    "                y = df_stack['Y'][i] + df_stack['Height'][i] / 2,\n",
    "                #ha = 'center', va = 'center',\n",
    "                color = 'w')"
   ]
  },
  {
   "cell_type": "code",
   "execution_count": null,
   "metadata": {},
   "outputs": [],
   "source": [
    "# Same code as above\n",
    "\n",
    "# Instantiate Figure and Axes objects\n",
    "fig, ax = plt.subplots()\n",
    "\n",
    "# Re-plot. Create first bar for Pct S\n",
    "ax.bar(df_wide['Subject'], df_wide['Pct S'], label = 'S')\n",
    "\n",
    "# Stack Pct N on top of S, call bottom flag\n",
    "ax.bar(df_wide['Subject'], df_wide['Pct N'], label = 'N', \\\n",
    "       bottom = df_wide['Pct S'])\n",
    "\n",
    "# Stack Pct E on both Pct S and N, call bottom flag with np.array() to sum them all\n",
    "ax.bar(df_wide['Subject'], df_wide['Pct E'], label = 'E', \n",
    "       bottom = np.array(df_wide['Pct S'])+np.array(df_wide['Pct N']))\n",
    "\n",
    "# Put legend, to make life easier\n",
    "ax.legend(frameon = False, loc = 'upper center', ncol = 3, bbox_to_anchor = (0.5,1.1))\n",
    "\n",
    "# Print number in each bar\n",
    "stack_print_number()        \n",
    "        \n",
    "# Show plot\n",
    "plt.show()"
   ]
  },
  {
   "cell_type": "code",
   "execution_count": null,
   "metadata": {},
   "outputs": [],
   "source": [
    "# Just to check numbers with bar above\n",
    "df_wide"
   ]
  },
  {
   "cell_type": "markdown",
   "metadata": {},
   "source": [
    "And, after writing all the code above, I just found out that there is a simpler way to produce stacked bar chart by using the `.plot()` method in Pandas `df` object. However, this requires the data to be pivoted first with `.pivot()` method.\n",
    "\n",
    "To pivot data into ready-to-chart form, `index` must be something you put on the x-axis, `columns` is the (categorical) layer that you want the stack to form, and `values` is the stack height.\n",
    "\n",
    "Use `.loc[]` after `.pivot()` call to re-arrange the layer ordering.\n",
    "\n",
    "In simplest form, it looks like this: `df.pivot().loc[].plot()`"
   ]
  },
  {
   "cell_type": "code",
   "execution_count": null,
   "metadata": {},
   "outputs": [],
   "source": [
    "# Instantiate Figures and Axes objects\n",
    "fig, ax = plt.subplots()\n",
    "\n",
    "# Pivot the data, then chart, in single-line\n",
    "df.pivot(index = 'Subject',\n",
    "         columns = 'Antigen',\n",
    "         values = 'ug/ml').loc[:,['Ag N', 'Ag E', 'Ag S']].plot(ax = ax, kind = 'bar', stacked = True, legend = None)\n",
    "\n",
    "# Set the Legend\n",
    "ax.legend(frameon = False, loc = 'upper center', bbox_to_anchor = (0.5,1.1), ncol = 3)\n",
    "\n",
    "# Rotate x-axis\n",
    "ax.tick_params(axis = 'x', rotation = 0)\n",
    "\n",
    "# Show the plot\n",
    "plt.show()"
   ]
  }
 ],
 "metadata": {
  "kernelspec": {
   "display_name": "Python 3",
   "language": "python",
   "name": "python3"
  },
  "language_info": {
   "codemirror_mode": {
    "name": "ipython",
    "version": 3
   },
   "file_extension": ".py",
   "mimetype": "text/x-python",
   "name": "python",
   "nbconvert_exporter": "python",
   "pygments_lexer": "ipython3",
   "version": "3.7.7"
  }
 },
 "nbformat": 4,
 "nbformat_minor": 4
}
